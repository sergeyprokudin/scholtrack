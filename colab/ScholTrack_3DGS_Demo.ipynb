{
  "nbformat": 4,
  "nbformat_minor": 0,
  "metadata": {
    "colab": {
      "provenance": []
    },
    "kernelspec": {
      "name": "python3",
      "display_name": "Python 3"
    },
    "language_info": {
      "name": "python"
    }
  },
  "cells": [
    {
      "cell_type": "markdown",
      "source": [
        "![scholtrack_demo](https://github.com/user-attachments/assets/05360671-9674-498f-87b8-682481f2ad7d)\n",
        "\n",
        "# ScholTrack Demo: Retrieve Citations for 3D Gaussian Splatting\n",
        "\n",
        "**Author**: [Sergey Prokudin](https://scholar.google.com/citations?user=xSywCzAAAAAJ&hl=en).  \n",
        "[[Project Page](https://github.com/sergeyprokudin/scholtrack) | [Widget Demo](https://colab.research.google.com/github/sergeyprokudin/scholtrack/blob/main/colab/ScholTrack_Widget_Demo.ipynb)]\n",
        "\n",
        "This notebook demonstrates how to retrieve all papers that cite a specific work, in this case, [3D Gaussian Splatting](https://repo-sam.inria.fr/fungraph/3d-gaussian-splatting/).\n",
        "\n",
        "Please see [here](https://github.com/sergeyprokudin/scholtrack/blob/main/README.md#finding-paper-ids) on how to get the Paper IDs for your own papers of interest."
      ],
      "metadata": {
        "id": "lMyHwYD9cpkM"
      }
    },
    {
      "cell_type": "code",
      "execution_count": 1,
      "metadata": {
        "colab": {
          "base_uri": "https://localhost:8080/",
          "height": 1000
        },
        "id": "UNoTqqbMb0Xp",
        "outputId": "4fe3e9e9-e61b-4264-ed0a-002ce9ece0fc"
      },
      "outputs": [
        {
          "output_type": "stream",
          "name": "stdout",
          "text": [
            "Collecting scholtrack\n",
            "  Downloading scholtrack-0.1.0.1-py3-none-any.whl.metadata (321 bytes)\n",
            "Requirement already satisfied: requests in /usr/local/lib/python3.10/dist-packages (from scholtrack) (2.32.3)\n",
            "Requirement already satisfied: tqdm in /usr/local/lib/python3.10/dist-packages (from scholtrack) (4.66.5)\n",
            "Requirement already satisfied: charset-normalizer<4,>=2 in /usr/local/lib/python3.10/dist-packages (from requests->scholtrack) (3.3.2)\n",
            "Requirement already satisfied: idna<4,>=2.5 in /usr/local/lib/python3.10/dist-packages (from requests->scholtrack) (3.10)\n",
            "Requirement already satisfied: urllib3<3,>=1.21.1 in /usr/local/lib/python3.10/dist-packages (from requests->scholtrack) (2.2.3)\n",
            "Requirement already satisfied: certifi>=2017.4.17 in /usr/local/lib/python3.10/dist-packages (from requests->scholtrack) (2024.8.30)\n",
            "Downloading scholtrack-0.1.0.1-py3-none-any.whl (13 kB)\n",
            "Installing collected packages: scholtrack\n",
            "Successfully installed scholtrack-0.1.0.1\n",
            "\n",
            "╔════════════════════════════════════════════════════════════════════╗\n",
            "║                ScholTrack: Academic Citation Tracker               ║\n",
            "╟────────────────────────────────────────────────────────────────────╢\n",
            "║ Version: 0.1.1                                                     ║\n",
            "║ License: Apache 2.0                                                ║\n",
            "║ Repo: https://github.com/sergeyprokudin/scholtrack                 ║\n",
            "║ Data Source: Semantic Scholar API                                  ║\n",
            "║ Last Update: October 2024                                          ║\n",
            "║ Author: Sergey Prokudin (sergey.prokudin@gmail.com)                ║\n",
            "╚════════════════════════════════════════════════════════════════════╝\n",
            "\n",
            "\n",
            "ScholTrack is about to start fetching citations for the provided papers.\n",
            "\n",
            "Note: This process may take several minutes for large lists or papers with many citations.\n",
            "Processing... -\n",
            "Showing top 5 out of 1541 citations:\n",
            "\n",
            "1. Title: DreamGaussian: Generative Gaussian Splatting for Efficient 3D Content Creation\n",
            "   Authors: Jiaxiang Tang, Jiawei Ren, Hang Zhou, Ziwei Liu, Gang Zeng\n",
            "   Citation Count: 362\n",
            "   Year: 2023\n",
            "   Venue: International Conference on Learning Representations\n",
            "   ArXiv URL: https://arxiv.org/abs/2309.16653\n",
            "   Semantic Scholar URL: https://www.semanticscholar.org/paper/cc1a674bb164d09a060cf5b26fe518c02fae0ddc\n",
            "\n",
            "2. Title: 4D Gaussian Splatting for Real-Time Dynamic Scene Rendering\n",
            "   Authors: Guanjun Wu, Taoran Yi, Jiemin Fang, Lingxi Xie, Xiaopeng Zhang, Wei Wei, Wenyu Liu, Qi Tian, Xinggang Wang\n",
            "   Citation Count: 281\n",
            "   Year: 2023\n",
            "   Venue: Computer Vision and Pattern Recognition\n",
            "   ArXiv URL: https://arxiv.org/abs/2310.08528\n",
            "   Semantic Scholar URL: https://www.semanticscholar.org/paper/395bfdae59f1a5fde16213cade43d2587e4565df\n",
            "\n",
            "3. Title: Dynamic 3D Gaussians: Tracking by Persistent Dynamic View Synthesis\n",
            "   Authors: Jonathon Luiten, Georgios Kopanas, Bastian Leibe, Deva Ramanan\n",
            "   Citation Count: 253\n",
            "   Year: 2023\n",
            "   Venue: International Conference on 3D Vision\n",
            "   ArXiv URL: https://arxiv.org/abs/2308.09713\n",
            "   Semantic Scholar URL: https://www.semanticscholar.org/paper/8ba2c82fe675ede1d5c12fc4f97cf8ca3ebf1ca3\n",
            "\n",
            "4. Title: Deformable 3D Gaussians for High-Fidelity Monocular Dynamic Scene Reconstruction\n",
            "   Authors: Ziyi Yang, Xinyu Gao, Wenming Zhou, Shaohui Jiao, Yuqing Zhang, Xiaogang Jin\n",
            "   Citation Count: 186\n",
            "   Year: 2023\n",
            "   Venue: Computer Vision and Pattern Recognition\n",
            "   ArXiv URL: https://arxiv.org/abs/2309.13101\n",
            "   Semantic Scholar URL: https://www.semanticscholar.org/paper/1ce81d64eefe5915c6ef9719915efa5f4079a6c1\n",
            "\n",
            "5. Title: SuGaR: Surface-Aligned Gaussian Splatting for Efficient 3D Mesh Reconstruction and High-Quality Mesh Rendering\n",
            "   Authors: Antoine Gu'edon, Vincent Lepetit\n",
            "   Citation Count: 151\n",
            "   Year: 2023\n",
            "   Venue: Computer Vision and Pattern Recognition\n",
            "   ArXiv URL: https://arxiv.org/abs/2311.12775\n",
            "   Semantic Scholar URL: https://www.semanticscholar.org/paper/e3f80d950e6f841bd7eea4c24d4e1e5aa2bd85c7\n",
            "\n",
            "\n",
            "All done, found \u001b[92m1541 citations\u001b[0m. Showing \u001b[95mtop 5 results based on citation count\u001b[0m.\n",
            "The full results are saved in \u001b[94m3dgs_references.csv\u001b[0m.\n"
          ]
        },
        {
          "output_type": "display_data",
          "data": {
            "text/plain": [
              "<IPython.core.display.Javascript object>"
            ],
            "application/javascript": [
              "\n",
              "    async function download(id, filename, size) {\n",
              "      if (!google.colab.kernel.accessAllowed) {\n",
              "        return;\n",
              "      }\n",
              "      const div = document.createElement('div');\n",
              "      const label = document.createElement('label');\n",
              "      label.textContent = `Downloading \"${filename}\": `;\n",
              "      div.appendChild(label);\n",
              "      const progress = document.createElement('progress');\n",
              "      progress.max = size;\n",
              "      div.appendChild(progress);\n",
              "      document.body.appendChild(div);\n",
              "\n",
              "      const buffers = [];\n",
              "      let downloaded = 0;\n",
              "\n",
              "      const channel = await google.colab.kernel.comms.open(id);\n",
              "      // Send a message to notify the kernel that we're ready.\n",
              "      channel.send({})\n",
              "\n",
              "      for await (const message of channel.messages) {\n",
              "        // Send a message to notify the kernel that we're ready.\n",
              "        channel.send({})\n",
              "        if (message.buffers) {\n",
              "          for (const buffer of message.buffers) {\n",
              "            buffers.push(buffer);\n",
              "            downloaded += buffer.byteLength;\n",
              "            progress.value = downloaded;\n",
              "          }\n",
              "        }\n",
              "      }\n",
              "      const blob = new Blob(buffers, {type: 'application/binary'});\n",
              "      const a = document.createElement('a');\n",
              "      a.href = window.URL.createObjectURL(blob);\n",
              "      a.download = filename;\n",
              "      div.appendChild(a);\n",
              "      a.click();\n",
              "      div.remove();\n",
              "    }\n",
              "  "
            ]
          },
          "metadata": {}
        },
        {
          "output_type": "display_data",
          "data": {
            "text/plain": [
              "<IPython.core.display.Javascript object>"
            ],
            "application/javascript": [
              "download(\"download_3bd89834-320b-4b9e-92a3-b2559c9085f4\", \"3dgs_references.csv\", 2388313)"
            ]
          },
          "metadata": {}
        }
      ],
      "source": [
        "# Install ScholTrack\n",
        "!pip install scholtrack\n",
        "\n",
        "# Get Reference for the 3DGS paper (Paper ID 2cc1d857e86d5152ba7fe6a8355c2a0150cc280a)\n",
        "!scholtrack -p 2cc1d857e86d5152ba7fe6a8355c2a0150cc280a -o 3dgs_references.csv\n",
        "\n",
        "from google.colab import files\n",
        "files.download('3dgs_references.csv')"
      ]
    }
  ]
}