{
  "nbformat": 4,
  "nbformat_minor": 0,
  "metadata": {
    "colab": {
      "provenance": []
    },
    "kernelspec": {
      "name": "python3",
      "display_name": "Python 3"
    },
    "language_info": {
      "name": "python"
    }
  },
  "cells": [
    {
      "cell_type": "markdown",
      "source": [
        "\n",
        "<img src=\"https://github.com/user-attachments/assets/05360671-9674-498f-87b8-682481f2ad7d\" alt=\"scholtrack_demo\" width=\"600\"/>\n",
        "\n",
        "\n",
        "# ScholTrack Demo: Get Latest Works on Novel View Synthesis\n",
        "\n",
        "**Author**: [Sergey Prokudin](https://scholar.google.com/citations?user=xSywCzAAAAAJ&hl=en)  \n",
        "[[Project Page](https://github.com/sergeyprokudin/scholtrack) | [Widget Demo](https://colab.research.google.com/github/sergeyprokudin/scholtrack/blob/main/colab/ScholTrack_Widget_Demo.ipynb)]\n",
        "\n",
        "This notebook demonstrates how to retrieve recent works in the field of Novel View Synthesis by gathering citations to key seminal papers. In this example, we will collect citations for works such as [\"Neural Radiance Fields (NeRF)\"](https://www.semanticscholar.org/paper/NeRF-Mildenhall-Srinivasan/428b663772dba998f5dc6a24488fff1858a0899f), [\"3D Gaussian Splatting\"](https://www.semanticscholar.org/paper/3D-Gaussian-Splatting-for-Real-Time-Radiance-Field-Kerbl-Kopanas/2cc1d857e86d5152ba7fe6a8355c2a0150cc280a), and [\"Instant neural graphics primitives with a multiresolution hash encoding\"](https://www.semanticscholar.org/paper/Instant-neural-graphics-primitives-with-a-hash-M%C3%BCller-Evans/60e69982ef2920596c6f31d6fd3ca5e9591f3db6).\n",
        "\n",
        "🔍❗ For information on how to find Paper IDs for your own papers of interest, see [this guide](https://github.com/sergeyprokudin/scholtrack/blob/main/README.md#finding-paper-ids)."
      ],
      "metadata": {
        "id": "lMyHwYD9cpkM"
      }
    },
    {
      "cell_type": "code",
      "execution_count": null,
      "metadata": {
        "colab": {
          "base_uri": "https://localhost:8080/",
          "height": 1000
        },
        "id": "UNoTqqbMb0Xp",
        "outputId": "cb46a749-83e2-40a9-9977-54f51dec9770"
      },
      "outputs": [
        {
          "output_type": "stream",
          "name": "stdout",
          "text": [
            "Collecting scholtrack\n",
            "  Downloading scholtrack-0.1.0.1-py3-none-any.whl.metadata (321 bytes)\n",
            "Requirement already satisfied: requests in /usr/local/lib/python3.10/dist-packages (from scholtrack) (2.32.3)\n",
            "Requirement already satisfied: tqdm in /usr/local/lib/python3.10/dist-packages (from scholtrack) (4.66.5)\n",
            "Requirement already satisfied: charset-normalizer<4,>=2 in /usr/local/lib/python3.10/dist-packages (from requests->scholtrack) (3.3.2)\n",
            "Requirement already satisfied: idna<4,>=2.5 in /usr/local/lib/python3.10/dist-packages (from requests->scholtrack) (3.10)\n",
            "Requirement already satisfied: urllib3<3,>=1.21.1 in /usr/local/lib/python3.10/dist-packages (from requests->scholtrack) (2.2.3)\n",
            "Requirement already satisfied: certifi>=2017.4.17 in /usr/local/lib/python3.10/dist-packages (from requests->scholtrack) (2024.8.30)\n",
            "Downloading scholtrack-0.1.0.1-py3-none-any.whl (13 kB)\n",
            "Installing collected packages: scholtrack\n",
            "Successfully installed scholtrack-0.1.0.1\n",
            "\n",
            "╔════════════════════════════════════════════════════════════════════╗\n",
            "║                ScholTrack: Academic Citation Tracker               ║\n",
            "╟────────────────────────────────────────────────────────────────────╢\n",
            "║ Version: 0.1.1                                                     ║\n",
            "║ License: Apache 2.0                                                ║\n",
            "║ Repo: https://github.com/sergeyprokudin/scholtrack                 ║\n",
            "║ Data Source: Semantic Scholar API                                  ║\n",
            "║ Last Update: October 2024                                          ║\n",
            "║ Author: Sergey Prokudin (sergey.prokudin@gmail.com)                ║\n",
            "╚════════════════════════════════════════════════════════════════════╝\n",
            "\n",
            "\n",
            "ScholTrack is about to start fetching citations for the provided papers.\n",
            "\n",
            "Note: This process may take several minutes for large lists or papers with many citations.\n",
            "Processing... \\\n",
            "Showing top 5 out of 5503 citations:\n",
            "\n",
            "1. Title: GS-VTON: Controllable 3D Virtual Try-on with Gaussian Splatting\n",
            "   Authors: Yukang Cao, Masoud Hadi, Liang Pan, Ziwei Liu\n",
            "   Citation Count: 0\n",
            "   Year: 2024\n",
            "   Venue: \n",
            "   ArXiv URL: https://arxiv.org/abs/2410.05259\n",
            "   Semantic Scholar URL: https://www.semanticscholar.org/paper/fb657189a0e71b03f353bffe957104e2abe3ab19\n",
            "\n",
            "2. Title: LiDAR-GS:Real-time LiDAR Re-Simulation using Gaussian Splatting\n",
            "   Authors: Qifeng Chen, Sheng Yang, Sicong Du, Tao Tang, Peng Chen, Yuchi Huo\n",
            "   Citation Count: 0\n",
            "   Year: 2024\n",
            "   Venue: \n",
            "   ArXiv URL: https://arxiv.org/abs/2410.05111\n",
            "   Semantic Scholar URL: https://www.semanticscholar.org/paper/adf7a803175f094cd5f6a4ccac7858fc29cd5207\n",
            "\n",
            "3. Title: DreamSat: Towards a General 3D Model for Novel View Synthesis of Space Objects\n",
            "   Authors: Nidhi Mathihalli, Audrey Wei, Giovanni Lavezzi, P. M. Siew, Victor Rodríguez-Fernández, H. Urrutxua, Richard Linares\n",
            "   Citation Count: 0\n",
            "   Year: 2024\n",
            "   Venue: \n",
            "   ArXiv URL: https://arxiv.org/abs/2410.05097\n",
            "   Semantic Scholar URL: https://www.semanticscholar.org/paper/21d532ca0b4713f84cc56842ebbbcbbfd7c31c23\n",
            "\n",
            "4. Title: FreSh: Frequency Shifting for Accelerated Neural Representation Learning\n",
            "   Authors: Adam Kania, Marko Mihajlovic, Sergey Prokudin, Jacek Tabor, P. Spurek\n",
            "   Citation Count: 0\n",
            "   Year: 2024\n",
            "   Venue: \n",
            "   ArXiv URL: https://arxiv.org/abs/2410.05050\n",
            "   Semantic Scholar URL: https://www.semanticscholar.org/paper/5de3affb81fa5766bb6a6ca0bf965258333b4c66\n",
            "\n",
            "5. Title: PhotoReg: Photometrically Registering 3D Gaussian Splatting Models\n",
            "   Authors: Ziwen Yuan, Tianyi Zhang, Matthew Johnson-Roberson, Weiming Zhi\n",
            "   Citation Count: 0\n",
            "   Year: 2024\n",
            "   Venue: \n",
            "   ArXiv URL: https://arxiv.org/abs/2410.05044\n",
            "   Semantic Scholar URL: https://www.semanticscholar.org/paper/8633dab9c57eb4946e3e18a2a0e210f4fa61a37a\n",
            "\n",
            "\n",
            "All done, found \u001b[92m5503 citations\u001b[0m. Showing \u001b[95mtop 5 results based on arXiv date of appearance\u001b[0m.\n",
            "The full results are saved in \u001b[94mnvs_latest_works.csv\u001b[0m.\n"
          ]
        },
        {
          "output_type": "display_data",
          "data": {
            "text/plain": [
              "<IPython.core.display.Javascript object>"
            ],
            "application/javascript": [
              "\n",
              "    async function download(id, filename, size) {\n",
              "      if (!google.colab.kernel.accessAllowed) {\n",
              "        return;\n",
              "      }\n",
              "      const div = document.createElement('div');\n",
              "      const label = document.createElement('label');\n",
              "      label.textContent = `Downloading \"${filename}\": `;\n",
              "      div.appendChild(label);\n",
              "      const progress = document.createElement('progress');\n",
              "      progress.max = size;\n",
              "      div.appendChild(progress);\n",
              "      document.body.appendChild(div);\n",
              "\n",
              "      const buffers = [];\n",
              "      let downloaded = 0;\n",
              "\n",
              "      const channel = await google.colab.kernel.comms.open(id);\n",
              "      // Send a message to notify the kernel that we're ready.\n",
              "      channel.send({})\n",
              "\n",
              "      for await (const message of channel.messages) {\n",
              "        // Send a message to notify the kernel that we're ready.\n",
              "        channel.send({})\n",
              "        if (message.buffers) {\n",
              "          for (const buffer of message.buffers) {\n",
              "            buffers.push(buffer);\n",
              "            downloaded += buffer.byteLength;\n",
              "            progress.value = downloaded;\n",
              "          }\n",
              "        }\n",
              "      }\n",
              "      const blob = new Blob(buffers, {type: 'application/binary'});\n",
              "      const a = document.createElement('a');\n",
              "      a.href = window.URL.createObjectURL(blob);\n",
              "      a.download = filename;\n",
              "      div.appendChild(a);\n",
              "      a.click();\n",
              "      div.remove();\n",
              "    }\n",
              "  "
            ]
          },
          "metadata": {}
        },
        {
          "output_type": "display_data",
          "data": {
            "text/plain": [
              "<IPython.core.display.Javascript object>"
            ],
            "application/javascript": [
              "download(\"download_a4ebc041-cf62-4ada-a32c-82e04fccafc2\", \"nvs_latest_works.csv\", 8284455)"
            ]
          },
          "metadata": {}
        }
      ],
      "source": [
        "# Install ScholTrack\n",
        "!pip install scholtrack\n",
        "\n",
        "# Get citations for the three seminal papers in the NVS field, sorted by arXiv date\n",
        "!scholtrack -o nvs_latest_works.csv -s arxiv -p 428b663772dba998f5dc6a24488fff1858a0899f 2cc1d857e86d5152ba7fe6a8355c2a0150cc280a 60e69982ef2920596c6f31d6fd3ca5e9591f3db6\n",
        "\n",
        "from google.colab import files\n",
        "files.download('nvs_latest_works.csv')"
      ]
    }
  ]
}