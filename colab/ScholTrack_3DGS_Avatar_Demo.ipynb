{
  "nbformat": 4,
  "nbformat_minor": 0,
  "metadata": {
    "colab": {
      "provenance": []
    },
    "kernelspec": {
      "name": "python3",
      "display_name": "Python 3"
    },
    "language_info": {
      "name": "python"
    }
  },
  "cells": [
    {
      "cell_type": "markdown",
      "source": [
        "<img src=\"https://github.com/user-attachments/assets/05360671-9674-498f-87b8-682481f2ad7d\" alt=\"scholtrack_demo\" width=\"600\"/>\n",
        "\n",
        "# ScholTrack Demo: Find Papers That Combine Methods X and Y\n",
        "\n",
        "**Author**: [Sergey Prokudin](https://scholar.google.com/citations?user=xSywCzAAAAAJ&hl=en).  \n",
        "[[Project Page](https://github.com/sergeyprokudin/scholtrack) | [Widget Demo](https://colab.research.google.com/github/sergeyprokudin/scholtrack/blob/main/colab/ScholTrack_Widget_Demo.ipynb)]\n",
        "\n",
        "This notebook demonstrates how to retrieve papers that cite multiple specific works simultaneously - in this case, [3D Gaussian Splatting](https://repo-sam.inria.fr/fungraph/3d-gaussian-splatting/) and [SMPL](https://smpl.is.tue.mpg.de).\n",
        "\n",
        "This search provides a comprehensive overview of **3DGS approaches in neural human rendering**.\n",
        "\n",
        "🔍❗ For information on how to find Paper IDs for your own papers of interest, see [this guide](https://github.com/sergeyprokudin/scholtrack/blob/main/README.md#finding-paper-ids)."
      ],
      "metadata": {
        "id": "lMyHwYD9cpkM"
      }
    },
    {
      "cell_type": "code",
      "execution_count": null,
      "metadata": {
        "colab": {
          "base_uri": "https://localhost:8080/",
          "height": 1000
        },
        "id": "UNoTqqbMb0Xp",
        "outputId": "8788c317-172d-43e3-ed0b-1629b18a31f7"
      },
      "outputs": [
        {
          "output_type": "stream",
          "name": "stdout",
          "text": [
            "Collecting scholtrack\n",
            "  Downloading scholtrack-0.1.0.1-py3-none-any.whl.metadata (321 bytes)\n",
            "Requirement already satisfied: requests in /usr/local/lib/python3.10/dist-packages (from scholtrack) (2.32.3)\n",
            "Requirement already satisfied: tqdm in /usr/local/lib/python3.10/dist-packages (from scholtrack) (4.66.5)\n",
            "Requirement already satisfied: charset-normalizer<4,>=2 in /usr/local/lib/python3.10/dist-packages (from requests->scholtrack) (3.3.2)\n",
            "Requirement already satisfied: idna<4,>=2.5 in /usr/local/lib/python3.10/dist-packages (from requests->scholtrack) (3.10)\n",
            "Requirement already satisfied: urllib3<3,>=1.21.1 in /usr/local/lib/python3.10/dist-packages (from requests->scholtrack) (2.2.3)\n",
            "Requirement already satisfied: certifi>=2017.4.17 in /usr/local/lib/python3.10/dist-packages (from requests->scholtrack) (2024.8.30)\n",
            "Downloading scholtrack-0.1.0.1-py3-none-any.whl (13 kB)\n",
            "Installing collected packages: scholtrack\n",
            "Successfully installed scholtrack-0.1.0.1\n",
            "\n",
            "╔════════════════════════════════════════════════════════════════════╗\n",
            "║                ScholTrack: Academic Citation Tracker               ║\n",
            "╟────────────────────────────────────────────────────────────────────╢\n",
            "║ Version: 0.1.1                                                     ║\n",
            "║ License: Apache 2.0                                                ║\n",
            "║ Repo: https://github.com/sergeyprokudin/scholtrack                 ║\n",
            "║ Data Source: Semantic Scholar API                                  ║\n",
            "║ Last Update: October 2024                                          ║\n",
            "║ Author: Sergey Prokudin (sergey.prokudin@gmail.com)                ║\n",
            "╚════════════════════════════════════════════════════════════════════╝\n",
            "\n",
            "\n",
            "ScholTrack is about to start fetching citations for the provided papers.\n",
            "\n",
            "Note: This process may take several minutes for large lists or papers with many citations.\n",
            "Processing... /\n",
            "Showing top 5 out of 127 citations:\n",
            "\n",
            "1. Title: LucidDreamer: Towards High-Fidelity Text-to-3D Generation via Interval Score Matching\n",
            "   Authors: Yixun Liang, Xin Yang, Jiantao Lin, Haodong Li, Xiaogang Xu, Yingcong Chen\n",
            "   Citation Count: 90\n",
            "   Year: 2023\n",
            "   Venue: Computer Vision and Pattern Recognition\n",
            "   ArXiv URL: https://arxiv.org/abs/2311.11284\n",
            "   Semantic Scholar URL: https://www.semanticscholar.org/paper/6f709278506813d04a074e6fa20188cce9bb927b\n",
            "\n",
            "2. Title: GaussianAvatars: Photorealistic Head Avatars with Rigged 3D Gaussians\n",
            "   Authors: Shenhan Qian, Tobias Kirschstein, Liam Schoneveld, Davide Davoli, Simon Giebenhain, M. Nießner\n",
            "   Citation Count: 70\n",
            "   Year: 2023\n",
            "   Venue: Computer Vision and Pattern Recognition\n",
            "   ArXiv URL: https://arxiv.org/abs/2312.02069\n",
            "   Semantic Scholar URL: https://www.semanticscholar.org/paper/6c0717e783f1f44c5ffa9aaad36076950ab8c444\n",
            "\n",
            "3. Title: State of the Art on Diffusion Models for Visual Computing\n",
            "   Authors: Ryan Po, Wang Yifan, Vladislav Golyanik, Kfir Aberman, J. Barron, Amit H. Bermano, E. R. Chan, Tali Dekel, Aleksander Holynski, Angjoo Kanazawa, C. K. Liu, Lingjie Liu, B. Mildenhall, M. Nießner, Bjorn Ommer, C. Theobalt, Peter Wonka, Gordon Wetzstein\n",
            "   Citation Count: 68\n",
            "   Year: 2023\n",
            "   Venue: Computer graphics forum (Print)\n",
            "   ArXiv URL: https://arxiv.org/abs/2310.07204\n",
            "   Semantic Scholar URL: https://www.semanticscholar.org/paper/6487ec82f6d8082a5b402a5416ea03009acb1679\n",
            "\n",
            "4. Title: Drivable 3D Gaussian Avatars\n",
            "   Authors: Wojciech Zielonka, Timur M. Bagautdinov, Shunsuke Saito, Michael Zollhofer, Justus Thies, Javier Romero\n",
            "   Citation Count: 53\n",
            "   Year: 2023\n",
            "   Venue: arXiv.org\n",
            "   ArXiv URL: https://arxiv.org/abs/2311.08581\n",
            "   Semantic Scholar URL: https://www.semanticscholar.org/paper/cad7ec01f4acb2ea4260b8bb7f8de920f538eaff\n",
            "\n",
            "5. Title: TeCH: Text-Guided Reconstruction of Lifelike Clothed Humans\n",
            "   Authors: Yangyi Huang, Hongwei Yi, Yuliang Xiu, Tingting Liao, Jiaxiang Tang, Deng Cai, Justus Thies\n",
            "   Citation Count: 49\n",
            "   Year: 2023\n",
            "   Venue: International Conference on 3D Vision\n",
            "   ArXiv URL: https://arxiv.org/abs/2308.08545\n",
            "   Semantic Scholar URL: https://www.semanticscholar.org/paper/50cb348c5853d7c5843c949fa1db4eb9c1d9994d\n",
            "\n",
            "\n",
            "All done, found \u001b[92m127 citations\u001b[0m. Showing \u001b[95mtop 5 results based on citation count\u001b[0m.\n",
            "The full results are saved in \u001b[94mavatar_3dgs_references.csv\u001b[0m.\n"
          ]
        },
        {
          "output_type": "display_data",
          "data": {
            "text/plain": [
              "<IPython.core.display.Javascript object>"
            ],
            "application/javascript": [
              "\n",
              "    async function download(id, filename, size) {\n",
              "      if (!google.colab.kernel.accessAllowed) {\n",
              "        return;\n",
              "      }\n",
              "      const div = document.createElement('div');\n",
              "      const label = document.createElement('label');\n",
              "      label.textContent = `Downloading \"${filename}\": `;\n",
              "      div.appendChild(label);\n",
              "      const progress = document.createElement('progress');\n",
              "      progress.max = size;\n",
              "      div.appendChild(progress);\n",
              "      document.body.appendChild(div);\n",
              "\n",
              "      const buffers = [];\n",
              "      let downloaded = 0;\n",
              "\n",
              "      const channel = await google.colab.kernel.comms.open(id);\n",
              "      // Send a message to notify the kernel that we're ready.\n",
              "      channel.send({})\n",
              "\n",
              "      for await (const message of channel.messages) {\n",
              "        // Send a message to notify the kernel that we're ready.\n",
              "        channel.send({})\n",
              "        if (message.buffers) {\n",
              "          for (const buffer of message.buffers) {\n",
              "            buffers.push(buffer);\n",
              "            downloaded += buffer.byteLength;\n",
              "            progress.value = downloaded;\n",
              "          }\n",
              "        }\n",
              "      }\n",
              "      const blob = new Blob(buffers, {type: 'application/binary'});\n",
              "      const a = document.createElement('a');\n",
              "      a.href = window.URL.createObjectURL(blob);\n",
              "      a.download = filename;\n",
              "      div.appendChild(a);\n",
              "      a.click();\n",
              "      div.remove();\n",
              "    }\n",
              "  "
            ]
          },
          "metadata": {}
        },
        {
          "output_type": "display_data",
          "data": {
            "text/plain": [
              "<IPython.core.display.Javascript object>"
            ],
            "application/javascript": [
              "download(\"download_622e2808-d194-4c25-a0a3-f119503abfa3\", \"avatar_3dgs_references.csv\", 206547)"
            ]
          },
          "metadata": {}
        }
      ],
      "source": [
        "# Install ScholTrack\n",
        "!pip install scholtrack\n",
        "\n",
        "# Get Citations for the 3DGS paper (Paper ID 2cc1d857e86d5152ba7fe6a8355c2a0150cc280a)\n",
        "# and SMPL paper (32d3048a4fe4becc7c4638afd05f2354b631cfca)\n",
        "\n",
        "!scholtrack -o avatar_3dgs_references.csv -n 2 -p 2cc1d857e86d5152ba7fe6a8355c2a0150cc280a 32d3048a4fe4becc7c4638afd05f2354b631cfca\n",
        "\n",
        "from google.colab import files\n",
        "files.download('avatar_3dgs_references.csv')"
      ]
    }
  ]
}