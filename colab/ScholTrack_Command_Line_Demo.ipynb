{
  "cells": [
    {
      "cell_type": "markdown",
      "source": [
        "![scholtrack_demo](https://github.com/user-attachments/assets/05360671-9674-498f-87b8-682481f2ad7d)\n",
        "\n",
        "# ScholTrack Command-Line Interface Examples\n",
        "\n",
        "**Author**: [Sergey Prokudin](https://scholar.google.com/citations?user=xSywCzAAAAAJ&hl=en).\n",
        "[[Project Page](https://github.com/sergeyprokudin/scholtrack) | [Widget Demo](https://colab.research.google.com/github//sergeyprokudin/scholtrack/blob/main/colab/ScholTrack_Widget_Demo.ipynb)]\n",
        "\n",
        "This notebook contains an example workflow for using a command line interface of the ScholTrack tool for retrieving citations for specified papers. You can alternatively try a [Widget Demo](https://colab.research.google.com/github//sergeyprokudin/scholtrack/blob/main/colab/ScholTrack_Widget_Demo.ipynb) for an interactive, no-code solution."
      ],
      "metadata": {
        "id": "AbgkNXITX-lf"
      },
      "id": "AbgkNXITX-lf"
    },
    {
      "cell_type": "code",
      "execution_count": null,
      "id": "c77b5bad",
      "metadata": {
        "id": "c77b5bad",
        "cellView": "form"
      },
      "outputs": [],
      "source": [
        "# @title 1. Install ScholTrack\n",
        "!pip install git+https://github.com/sergeyprokudin/scholtrack.git"
      ]
    },
    {
      "cell_type": "markdown",
      "source": [
        "## 2. Find the Semantic Scholar Paper IDs for the paper of interest:\n",
        "\n",
        "\n",
        "ScholTrack uses **Semantic Scholar Paper IDs** to retrieve citations. To find a Paper ID for your paper:\n",
        "\n",
        "1. Go to [Semantic Scholar](https://www.semanticscholar.org/).\n",
        "2. Search for the paper.\n",
        "3. Click on the paper in the results that match your search.\n",
        "4. The **Paper ID** is the string after the last slash in the URL, e.g., for the [3D Gaussian Splatting paper](https://www.semanticscholar.org/paper/3D-Gaussian-Splatting-for-Real-Time-Radiance-Field-Kerbl-Kopanas/2cc1d857e86d5152ba7fe6a8355c2a0150cc280a):\n",
        "\n",
        "   ```\n",
        "   https://www.semanticscholar.org/paper/3D-Gaussian-Splatting-for-Real-Time-Radiance-Field-Kerbl-Kopanas/2cc1d857e86d5152ba7fe6a8355c2a0150cc280a\n",
        "   ```\n",
        "\n",
        "   The Paper ID is `2cc1d857e86d5152ba7fe6a8355c2a0150cc280a`.\n",
        "\n",
        "5. Use this Paper ID in ScholTrack to retrieve citations."
      ],
      "metadata": {
        "id": "kgKAiPjAjYSL"
      },
      "id": "kgKAiPjAjYSL"
    },
    {
      "cell_type": "markdown",
      "source": [
        "Next, find your paper(s) of interest. See [this section of README](https://github.com/sergeyprokudin/scholtrack/blob/main/README.md#finding-paper-ids) on how to get the Semantic Scholar Paper ID for your paper."
      ],
      "metadata": {
        "id": "XDpISU-Ha0LD"
      },
      "id": "XDpISU-Ha0LD"
    },
    {
      "cell_type": "markdown",
      "id": "f197cfb7",
      "metadata": {
        "id": "f197cfb7"
      },
      "source": [
        "## Example 0: Fetch All Citations for a Paper and Save to CSV\n",
        "\n",
        "This command retrieves all citations and related information (such as abstract, arXiv link, citation count, venue, etc.) for a given paper and saves it to a CSV file:"
      ]
    },
    {
      "cell_type": "code",
      "execution_count": null,
      "id": "7b8353b5",
      "metadata": {
        "id": "7b8353b5"
      },
      "outputs": [],
      "source": [
        "!scholtrack -p 2cc1d857e86d5152ba7fe6a8355c2a0150cc280a -o 3dgs_references.csv"
      ]
    },
    {
      "cell_type": "markdown",
      "id": "42fe0da7",
      "metadata": {
        "id": "42fe0da7"
      },
      "source": [
        "## Example 1: Fetch Latest Citations for a Paper and Save to TXT\n",
        "\n",
        "You can sort the output based on the paper's arXiv ID to prioritize the latest publications:"
      ]
    },
    {
      "cell_type": "code",
      "execution_count": null,
      "id": "36e3c200",
      "metadata": {
        "id": "36e3c200"
      },
      "outputs": [],
      "source": [
        "!scholtrack -p 2cc1d857e86d5152ba7fe6a8355c2a0150cc280a -o 3dgs_citations.txt -s arxiv -t txt"
      ]
    },
    {
      "cell_type": "markdown",
      "id": "3cba4cf9",
      "metadata": {
        "id": "3cba4cf9"
      },
      "source": [
        "## Example 2: Fetch Citations for a List of Papers\n",
        "\n",
        "You can provide multiple Paper IDs directly in the command line:"
      ]
    },
    {
      "cell_type": "code",
      "execution_count": null,
      "id": "7e254754",
      "metadata": {
        "id": "7e254754"
      },
      "outputs": [],
      "source": [
        "!scholtrack -p 2cc1d857e86d5152ba7fe6a8355c2a0150cc280a 428b663772dba998f5dc6a24488fff1858a0899f -o nvs_citations.txt"
      ]
    },
    {
      "cell_type": "markdown",
      "id": "3608f4ba",
      "metadata": {
        "id": "3608f4ba"
      },
      "source": [
        "Alternatively, provide a TXT file containing a list of Paper IDs:"
      ]
    },
    {
      "cell_type": "code",
      "execution_count": null,
      "id": "4862ffcd",
      "metadata": {
        "id": "4862ffcd"
      },
      "outputs": [],
      "source": [
        "# First, get the file\n",
        "!wget https://github.com/sergeyprokudin/scholtrack/blob/5738fb0a8ab10d2727e65d886fc67849ca0af052/scholtrack/collections/nvs.txt?raw=true -O nvs.txt\n",
        "# run ScholTrack on the downloaded txt\n",
        "!scholtrack -f nvs.txt -o nvs_citations.csv"
      ]
    },
    {
      "cell_type": "markdown",
      "id": "353b4a1a",
      "metadata": {
        "id": "353b4a1a"
      },
      "source": [
        "## Example 3: Finding Papers at the Intersection of Fields\n",
        "\n",
        "You can search for papers that cite multiple works from a given list, useful for identifying papers at the intersection of different research fields. For example, this command finds papers that cite both [3D Gaussian Splatting](https://repo-sam.inria.fr/fungraph/3d-gaussian-splatting/) (Paper ID 2cc1d857e86d5152ba7fe6a8355c2a0150cc280a)  and the seminal work [\"SMPL: A Skinned Multi-Person Linear Model\"](https://smpl.is.tue.mpg.de/) (32d3048a4fe4becc7c4638afd05f2354b631cfca) on digital humans, allowing to search for applications of **3DGS in digital human modelling**:"
      ]
    },
    {
      "cell_type": "code",
      "execution_count": null,
      "id": "9dff50ab",
      "metadata": {
        "id": "9dff50ab"
      },
      "outputs": [],
      "source": [
        "!scholtrack -o avatar_3dgs.csv -n 2 -p 2cc1d857e86d5152ba7fe6a8355c2a0150cc280a 32d3048a4fe4becc7c4638afd05f2354b631cfca"
      ]
    },
    {
      "cell_type": "markdown",
      "id": "8f4b473e",
      "metadata": {
        "id": "8f4b473e"
      },
      "source": [
        "Here, `-n 2` specifies that only papers citing at least two works from the list will be included.\n",
        "\n",
        "**Note**: The process may take a few minutes for papers with many citations. The current limit for retrieving citations without an API key is 10,000 per paper."
      ]
    }
  ],
  "metadata": {
    "colab": {
      "provenance": []
    },
    "language_info": {
      "name": "python"
    },
    "kernelspec": {
      "name": "python3",
      "display_name": "Python 3"
    }
  },
  "nbformat": 4,
  "nbformat_minor": 5
}