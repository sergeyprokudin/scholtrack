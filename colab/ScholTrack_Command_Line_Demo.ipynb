{
  "nbformat": 4,
  "nbformat_minor": 0,
  "metadata": {
    "colab": {
      "provenance": []
    },
    "kernelspec": {
      "name": "python3",
      "display_name": "Python 3"
    },
    "language_info": {
      "name": "python"
    }
  },
  "cells": [
    {
      "cell_type": "markdown",
      "source": [
        "![scholtrack](https://github.com/user-attachments/assets/368377a3-c43b-4d59-a656-0f70f9d3f329)\n",
        "\n",
        "\n",
        "# ScholTrack Command Line Demo\n",
        "\n",
        "**Author**: [Sergey Prokudin](https://scholar.google.com/citations?user=xSywCzAAAAAJ&hl=en).\n",
        "[[Project Page](https://github.com/sergeyprokudin/scholtrack)]\n",
        "\n",
        "This notebook contains an example workflow for using a command line interface of the ScholTrack tool for retrieving citations for specified papers."
      ],
      "metadata": {
        "id": "W8JdFELbQs85"
      }
    },
    {
      "cell_type": "code",
      "execution_count": null,
      "metadata": {
        "cellView": "form",
        "id": "EvE5ZBo0f_IM"
      },
      "outputs": [],
      "source": [
        "# @title Install ScholTrack\n",
        "!git clone https://github.com/sergeyprokudin/scholtrack.git\n",
        "%cd /content/scholtrack\n",
        "!pip install -e .\n",
        "%cd /content"
      ]
    },
    {
      "cell_type": "code",
      "source": [
        "# Check that everything works\n",
        "!scholtrack -h"
      ],
      "metadata": {
        "id": "xx7SbwPC-EPR"
      },
      "execution_count": null,
      "outputs": []
    },
    {
      "cell_type": "code",
      "source": [
        "# Let's track all the citations for two papers\n",
        "# fcd0de4066d93fa3822a14898008fa2dd99f7be6 (SyncDreamer: Generating Multiview-consistent Images from a Single-view Image)\n",
        "# 11665dbecb17ef4d3d71b75b8666ce0e61bd43fa (LGM: Large Multi-View Gaussian Model for High-Resolution 3D Content Creation)\n",
        "!scholtrack --paper-ids fcd0de4066d93fa3822a14898008fa2dd99f7be6 11665dbecb17ef4d3d71b75b8666ce0e61bd43fa --output-type csv --output citations.csv"
      ],
      "metadata": {
        "id": "CkrKuWz7hlV_"
      },
      "execution_count": null,
      "outputs": []
    },
    {
      "cell_type": "code",
      "source": [
        "# Let's do the same, but only return papers that cite both works\n",
        "!scholtrack -p fcd0de4066d93fa3822a14898008fa2dd99f7be6 11665dbecb17ef4d3d71b75b8666ce0e61bd43fa -t csv  -o citations_intersect.csv -n 2"
      ],
      "metadata": {
        "id": "trYN7ixoj4SH"
      },
      "execution_count": null,
      "outputs": []
    },
    {
      "cell_type": "code",
      "source": [
        "# let's explore a pre-defined collection, e.g. NeRF-related works, sorted by citations\n",
        "!scholtrack -c nerf -t csv  -o nerf_works.csv -s citations"
      ],
      "metadata": {
        "id": "r-kw1WCrkuac"
      },
      "execution_count": null,
      "outputs": []
    },
    {
      "cell_type": "code",
      "source": [
        "# same, but let's get the latest work published on arxiv, and show abstracts for them in the output\n",
        "!scholtrack -c nerf -t csv  -o nerf_works_by_arxiv.csv -s arxiv --show-abstract -l 10"
      ],
      "metadata": {
        "id": "Kwp9f93clIEp"
      },
      "execution_count": null,
      "outputs": []
    },
    {
      "cell_type": "code",
      "source": [
        "# working with TXT files\n",
        "!scholtrack -f /content/scholtrack/collections/4dgs.txt -s citations -t csv  -o 4dgs_works.csv"
      ],
      "metadata": {
        "id": "bLawuGTRmJp7"
      },
      "execution_count": null,
      "outputs": []
    }
  ]
}